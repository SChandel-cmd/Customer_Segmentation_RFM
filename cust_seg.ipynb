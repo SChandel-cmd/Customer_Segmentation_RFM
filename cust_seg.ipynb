{
 "cells": [
  {
   "cell_type": "code",
   "execution_count": 1,
   "metadata": {},
   "outputs": [],
   "source": [
    "import pandas as pd\n",
    "import numpy as np\n",
    "import joblib\n",
    "import plydata.cat_tools as cat\n",
    "import plotnine as pn\n",
    "from xgboost import XGBClassifier, XGBRegressor\n",
    "from sklearn.model_selection import GridSearchCV\n",
    "from datetime import datetime"
   ]
  },
  {
   "cell_type": "code",
   "execution_count": 2,
   "metadata": {},
   "outputs": [],
   "source": [
    "pn.options.dpi = 300"
   ]
  },
  {
   "cell_type": "code",
   "execution_count": 3,
   "metadata": {},
   "outputs": [],
   "source": [
    "cdnow_raw_df = pd.read_csv(\"CDNOW_master.txt\", sep =\"\\s+\", names = [\"customer_id\", \"date\",\"quantity\",\"price\"])"
   ]
  },
  {
   "cell_type": "code",
   "execution_count": 4,
   "metadata": {},
   "outputs": [
    {
     "name": "stdout",
     "output_type": "stream",
     "text": [
      "<class 'pandas.core.frame.DataFrame'>\n",
      "RangeIndex: 69659 entries, 0 to 69658\n",
      "Data columns (total 4 columns):\n",
      " #   Column       Non-Null Count  Dtype  \n",
      "---  ------       --------------  -----  \n",
      " 0   customer_id  69659 non-null  int64  \n",
      " 1   date         69659 non-null  int64  \n",
      " 2   quantity     69659 non-null  int64  \n",
      " 3   price        69659 non-null  float64\n",
      "dtypes: float64(1), int64(3)\n",
      "memory usage: 2.1 MB\n"
     ]
    }
   ],
   "source": [
    "cdnow_raw_df.info()"
   ]
  },
  {
   "cell_type": "code",
   "execution_count": 5,
   "metadata": {},
   "outputs": [],
   "source": [
    "cdnow_df = cdnow_raw_df \\\n",
    "    .assign(date = lambda x:x['date'].astype(str))\\\n",
    "    .assign(date = lambda x: pd.to_datetime(x['date']))\\\n",
    "    .dropna()"
   ]
  },
  {
   "cell_type": "code",
   "execution_count": 6,
   "metadata": {},
   "outputs": [
    {
     "name": "stdout",
     "output_type": "stream",
     "text": [
      "<class 'pandas.core.frame.DataFrame'>\n",
      "RangeIndex: 69659 entries, 0 to 69658\n",
      "Data columns (total 4 columns):\n",
      " #   Column       Non-Null Count  Dtype         \n",
      "---  ------       --------------  -----         \n",
      " 0   customer_id  69659 non-null  int64         \n",
      " 1   date         69659 non-null  datetime64[ns]\n",
      " 2   quantity     69659 non-null  int64         \n",
      " 3   price        69659 non-null  float64       \n",
      "dtypes: datetime64[ns](1), float64(1), int64(2)\n",
      "memory usage: 2.1 MB\n"
     ]
    }
   ],
   "source": [
    "cdnow_df.info()"
   ]
  },
  {
   "cell_type": "code",
   "execution_count": 7,
   "metadata": {},
   "outputs": [],
   "source": [
    "#cohort analysis: looking at customers which joined at a specific time window ie they were in similar marketing scenarios"
   ]
  },
  {
   "cell_type": "code",
   "execution_count": 8,
   "metadata": {},
   "outputs": [],
   "source": [
    "cdnow_first_purchase_tbl = cdnow_df \\\n",
    "    .sort_values(['customer_id', 'date'])\\\n",
    "    .groupby('customer_id')\\\n",
    "    .first()"
   ]
  },
  {
   "cell_type": "code",
   "execution_count": 9,
   "metadata": {},
   "outputs": [
    {
     "data": {
      "text/html": [
       "<div>\n",
       "<style scoped>\n",
       "    .dataframe tbody tr th:only-of-type {\n",
       "        vertical-align: middle;\n",
       "    }\n",
       "\n",
       "    .dataframe tbody tr th {\n",
       "        vertical-align: top;\n",
       "    }\n",
       "\n",
       "    .dataframe thead th {\n",
       "        text-align: right;\n",
       "    }\n",
       "</style>\n",
       "<table border=\"1\" class=\"dataframe\">\n",
       "  <thead>\n",
       "    <tr style=\"text-align: right;\">\n",
       "      <th></th>\n",
       "      <th>date</th>\n",
       "      <th>quantity</th>\n",
       "      <th>price</th>\n",
       "    </tr>\n",
       "    <tr>\n",
       "      <th>customer_id</th>\n",
       "      <th></th>\n",
       "      <th></th>\n",
       "      <th></th>\n",
       "    </tr>\n",
       "  </thead>\n",
       "  <tbody>\n",
       "    <tr>\n",
       "      <th>1</th>\n",
       "      <td>1997-01-01</td>\n",
       "      <td>1</td>\n",
       "      <td>11.77</td>\n",
       "    </tr>\n",
       "    <tr>\n",
       "      <th>2</th>\n",
       "      <td>1997-01-12</td>\n",
       "      <td>1</td>\n",
       "      <td>12.00</td>\n",
       "    </tr>\n",
       "    <tr>\n",
       "      <th>3</th>\n",
       "      <td>1997-01-02</td>\n",
       "      <td>2</td>\n",
       "      <td>20.76</td>\n",
       "    </tr>\n",
       "    <tr>\n",
       "      <th>4</th>\n",
       "      <td>1997-01-01</td>\n",
       "      <td>2</td>\n",
       "      <td>29.33</td>\n",
       "    </tr>\n",
       "    <tr>\n",
       "      <th>5</th>\n",
       "      <td>1997-01-01</td>\n",
       "      <td>2</td>\n",
       "      <td>29.33</td>\n",
       "    </tr>\n",
       "    <tr>\n",
       "      <th>...</th>\n",
       "      <td>...</td>\n",
       "      <td>...</td>\n",
       "      <td>...</td>\n",
       "    </tr>\n",
       "    <tr>\n",
       "      <th>23566</th>\n",
       "      <td>1997-03-25</td>\n",
       "      <td>2</td>\n",
       "      <td>36.00</td>\n",
       "    </tr>\n",
       "    <tr>\n",
       "      <th>23567</th>\n",
       "      <td>1997-03-25</td>\n",
       "      <td>1</td>\n",
       "      <td>20.97</td>\n",
       "    </tr>\n",
       "    <tr>\n",
       "      <th>23568</th>\n",
       "      <td>1997-03-25</td>\n",
       "      <td>1</td>\n",
       "      <td>22.97</td>\n",
       "    </tr>\n",
       "    <tr>\n",
       "      <th>23569</th>\n",
       "      <td>1997-03-25</td>\n",
       "      <td>2</td>\n",
       "      <td>25.74</td>\n",
       "    </tr>\n",
       "    <tr>\n",
       "      <th>23570</th>\n",
       "      <td>1997-03-25</td>\n",
       "      <td>3</td>\n",
       "      <td>51.12</td>\n",
       "    </tr>\n",
       "  </tbody>\n",
       "</table>\n",
       "<p>23570 rows × 3 columns</p>\n",
       "</div>"
      ],
      "text/plain": [
       "                  date  quantity  price\n",
       "customer_id                            \n",
       "1           1997-01-01         1  11.77\n",
       "2           1997-01-12         1  12.00\n",
       "3           1997-01-02         2  20.76\n",
       "4           1997-01-01         2  29.33\n",
       "5           1997-01-01         2  29.33\n",
       "...                ...       ...    ...\n",
       "23566       1997-03-25         2  36.00\n",
       "23567       1997-03-25         1  20.97\n",
       "23568       1997-03-25         1  22.97\n",
       "23569       1997-03-25         2  25.74\n",
       "23570       1997-03-25         3  51.12\n",
       "\n",
       "[23570 rows x 3 columns]"
      ]
     },
     "execution_count": 9,
     "metadata": {},
     "output_type": "execute_result"
    }
   ],
   "source": [
    "cdnow_first_purchase_tbl"
   ]
  },
  {
   "cell_type": "code",
   "execution_count": 10,
   "metadata": {},
   "outputs": [
    {
     "data": {
      "text/plain": [
       "Timestamp('1997-01-01 00:00:00')"
      ]
     },
     "execution_count": 10,
     "metadata": {},
     "output_type": "execute_result"
    }
   ],
   "source": [
    "cdnow_first_purchase_tbl['date'].min()"
   ]
  },
  {
   "cell_type": "code",
   "execution_count": 11,
   "metadata": {},
   "outputs": [
    {
     "data": {
      "text/plain": [
       "Timestamp('1997-03-25 00:00:00')"
      ]
     },
     "execution_count": 11,
     "metadata": {},
     "output_type": "execute_result"
    }
   ],
   "source": [
    "cdnow_first_purchase_tbl['date'].max()"
   ]
  },
  {
   "cell_type": "code",
   "execution_count": 39,
   "metadata": {},
   "outputs": [],
   "source": [
    "cdnow_df['amount'] = cdnow_df['price']*cdnow_df['quantity']"
   ]
  },
  {
   "cell_type": "code",
   "execution_count": 40,
   "metadata": {},
   "outputs": [
    {
     "data": {
      "text/html": [
       "<div>\n",
       "<style scoped>\n",
       "    .dataframe tbody tr th:only-of-type {\n",
       "        vertical-align: middle;\n",
       "    }\n",
       "\n",
       "    .dataframe tbody tr th {\n",
       "        vertical-align: top;\n",
       "    }\n",
       "\n",
       "    .dataframe thead th {\n",
       "        text-align: right;\n",
       "    }\n",
       "</style>\n",
       "<table border=\"1\" class=\"dataframe\">\n",
       "  <thead>\n",
       "    <tr style=\"text-align: right;\">\n",
       "      <th></th>\n",
       "      <th>customer_id</th>\n",
       "      <th>date</th>\n",
       "      <th>quantity</th>\n",
       "      <th>price</th>\n",
       "      <th>amount</th>\n",
       "    </tr>\n",
       "  </thead>\n",
       "  <tbody>\n",
       "    <tr>\n",
       "      <th>0</th>\n",
       "      <td>1</td>\n",
       "      <td>1997-01-01</td>\n",
       "      <td>1</td>\n",
       "      <td>11.77</td>\n",
       "      <td>11.77</td>\n",
       "    </tr>\n",
       "    <tr>\n",
       "      <th>1</th>\n",
       "      <td>2</td>\n",
       "      <td>1997-01-12</td>\n",
       "      <td>1</td>\n",
       "      <td>12.00</td>\n",
       "      <td>12.00</td>\n",
       "    </tr>\n",
       "    <tr>\n",
       "      <th>2</th>\n",
       "      <td>2</td>\n",
       "      <td>1997-01-12</td>\n",
       "      <td>5</td>\n",
       "      <td>77.00</td>\n",
       "      <td>385.00</td>\n",
       "    </tr>\n",
       "    <tr>\n",
       "      <th>3</th>\n",
       "      <td>3</td>\n",
       "      <td>1997-01-02</td>\n",
       "      <td>2</td>\n",
       "      <td>20.76</td>\n",
       "      <td>41.52</td>\n",
       "    </tr>\n",
       "    <tr>\n",
       "      <th>4</th>\n",
       "      <td>3</td>\n",
       "      <td>1997-03-30</td>\n",
       "      <td>2</td>\n",
       "      <td>20.76</td>\n",
       "      <td>41.52</td>\n",
       "    </tr>\n",
       "  </tbody>\n",
       "</table>\n",
       "</div>"
      ],
      "text/plain": [
       "   customer_id       date  quantity  price  amount\n",
       "0            1 1997-01-01         1  11.77   11.77\n",
       "1            2 1997-01-12         1  12.00   12.00\n",
       "2            2 1997-01-12         5  77.00  385.00\n",
       "3            3 1997-01-02         2  20.76   41.52\n",
       "4            3 1997-03-30         2  20.76   41.52"
      ]
     },
     "execution_count": 40,
     "metadata": {},
     "output_type": "execute_result"
    }
   ],
   "source": [
    "cdnow_df.head()"
   ]
  },
  {
   "cell_type": "code",
   "execution_count": 12,
   "metadata": {},
   "outputs": [],
   "source": [
    "#visualizing"
   ]
  },
  {
   "cell_type": "code",
   "execution_count": 43,
   "metadata": {},
   "outputs": [
    {
     "data": {
      "text/plain": [
       "<AxesSubplot:xlabel='date'>"
      ]
     },
     "execution_count": 43,
     "metadata": {},
     "output_type": "execute_result"
    },
    {
     "data": {
      "image/png": "[encoded data removed]",
      "text/plain": [
       "<Figure size 432x288 with 1 Axes>"
      ]
     },
     "metadata": {
      "needs_background": "light"
     },
     "output_type": "display_data"
    }
   ],
   "source": [
    "cdnow_df \\\n",
    "    .reset_index() \\\n",
    "    .set_index('date') \\\n",
    "    ['amount'] \\\n",
    "    .resample(\n",
    "        rule=\"MS\"\n",
    "    ) \\\n",
    "    .sum() \\\n",
    "    .plot()\n"
   ]
  },
  {
   "cell_type": "code",
   "execution_count": 44,
   "metadata": {},
   "outputs": [],
   "source": [
    "#visualise individual customer purchases"
   ]
  },
  {
   "cell_type": "code",
   "execution_count": 51,
   "metadata": {},
   "outputs": [],
   "source": [
    "ids = cdnow_df['customer_id'].unique()\n",
    "ids_selected = ids[0:10]"
   ]
  },
  {
   "cell_type": "code",
   "execution_count": 52,
   "metadata": {},
   "outputs": [
    {
     "data": {
      "text/plain": [
       "array([ 1,  2,  3,  4,  5,  6,  7,  8,  9, 10], dtype=int64)"
      ]
     },
     "execution_count": 52,
     "metadata": {},
     "output_type": "execute_result"
    }
   ],
   "source": [
    "ids_selected"
   ]
  },
  {
   "cell_type": "code",
   "execution_count": 75,
   "metadata": {},
   "outputs": [],
   "source": [
    "cdnow_cust_id_subset_df = cdnow_df \\\n",
    "     [cdnow_df['customer_id'].isin(ids_selected)] \\\n",
    "    .groupby(['customer_id', 'date']) \\\n",
    "    .sum() \\\n",
    "    .reset_index()"
   ]
  },
  {
   "cell_type": "code",
   "execution_count": 76,
   "metadata": {},
   "outputs": [
    {
     "data": {
      "text/html": [
       "<div>\n",
       "<style scoped>\n",
       "    .dataframe tbody tr th:only-of-type {\n",
       "        vertical-align: middle;\n",
       "    }\n",
       "\n",
       "    .dataframe tbody tr th {\n",
       "        vertical-align: top;\n",
       "    }\n",
       "\n",
       "    .dataframe thead th {\n",
       "        text-align: right;\n",
       "    }\n",
       "</style>\n",
       "<table border=\"1\" class=\"dataframe\">\n",
       "  <thead>\n",
       "    <tr style=\"text-align: right;\">\n",
       "      <th></th>\n",
       "      <th>customer_id</th>\n",
       "      <th>date</th>\n",
       "      <th>quantity</th>\n",
       "      <th>price</th>\n",
       "      <th>amount</th>\n",
       "    </tr>\n",
       "  </thead>\n",
       "  <tbody>\n",
       "    <tr>\n",
       "      <th>0</th>\n",
       "      <td>1</td>\n",
       "      <td>1997-01-01</td>\n",
       "      <td>1</td>\n",
       "      <td>11.77</td>\n",
       "      <td>11.77</td>\n",
       "    </tr>\n",
       "    <tr>\n",
       "      <th>1</th>\n",
       "      <td>2</td>\n",
       "      <td>1997-01-12</td>\n",
       "      <td>6</td>\n",
       "      <td>89.00</td>\n",
       "      <td>397.00</td>\n",
       "    </tr>\n",
       "    <tr>\n",
       "      <th>2</th>\n",
       "      <td>3</td>\n",
       "      <td>1997-01-02</td>\n",
       "      <td>2</td>\n",
       "      <td>20.76</td>\n",
       "      <td>41.52</td>\n",
       "    </tr>\n",
       "    <tr>\n",
       "      <th>3</th>\n",
       "      <td>3</td>\n",
       "      <td>1997-03-30</td>\n",
       "      <td>2</td>\n",
       "      <td>20.76</td>\n",
       "      <td>41.52</td>\n",
       "    </tr>\n",
       "    <tr>\n",
       "      <th>4</th>\n",
       "      <td>3</td>\n",
       "      <td>1997-04-02</td>\n",
       "      <td>2</td>\n",
       "      <td>19.54</td>\n",
       "      <td>39.08</td>\n",
       "    </tr>\n",
       "    <tr>\n",
       "      <th>5</th>\n",
       "      <td>3</td>\n",
       "      <td>1997-11-15</td>\n",
       "      <td>5</td>\n",
       "      <td>57.45</td>\n",
       "      <td>287.25</td>\n",
       "    </tr>\n",
       "    <tr>\n",
       "      <th>6</th>\n",
       "      <td>3</td>\n",
       "      <td>1997-11-25</td>\n",
       "      <td>4</td>\n",
       "      <td>20.96</td>\n",
       "      <td>83.84</td>\n",
       "    </tr>\n",
       "    <tr>\n",
       "      <th>7</th>\n",
       "      <td>3</td>\n",
       "      <td>1998-05-28</td>\n",
       "      <td>1</td>\n",
       "      <td>16.99</td>\n",
       "      <td>16.99</td>\n",
       "    </tr>\n",
       "    <tr>\n",
       "      <th>8</th>\n",
       "      <td>4</td>\n",
       "      <td>1997-01-01</td>\n",
       "      <td>2</td>\n",
       "      <td>29.33</td>\n",
       "      <td>58.66</td>\n",
       "    </tr>\n",
       "    <tr>\n",
       "      <th>9</th>\n",
       "      <td>4</td>\n",
       "      <td>1997-01-18</td>\n",
       "      <td>2</td>\n",
       "      <td>29.73</td>\n",
       "      <td>59.46</td>\n",
       "    </tr>\n",
       "    <tr>\n",
       "      <th>10</th>\n",
       "      <td>4</td>\n",
       "      <td>1997-08-02</td>\n",
       "      <td>1</td>\n",
       "      <td>14.96</td>\n",
       "      <td>14.96</td>\n",
       "    </tr>\n",
       "    <tr>\n",
       "      <th>11</th>\n",
       "      <td>4</td>\n",
       "      <td>1997-12-12</td>\n",
       "      <td>2</td>\n",
       "      <td>26.48</td>\n",
       "      <td>52.96</td>\n",
       "    </tr>\n",
       "    <tr>\n",
       "      <th>12</th>\n",
       "      <td>5</td>\n",
       "      <td>1997-01-01</td>\n",
       "      <td>2</td>\n",
       "      <td>29.33</td>\n",
       "      <td>58.66</td>\n",
       "    </tr>\n",
       "    <tr>\n",
       "      <th>13</th>\n",
       "      <td>5</td>\n",
       "      <td>1997-01-14</td>\n",
       "      <td>1</td>\n",
       "      <td>13.97</td>\n",
       "      <td>13.97</td>\n",
       "    </tr>\n",
       "    <tr>\n",
       "      <th>14</th>\n",
       "      <td>5</td>\n",
       "      <td>1997-02-04</td>\n",
       "      <td>3</td>\n",
       "      <td>38.90</td>\n",
       "      <td>116.70</td>\n",
       "    </tr>\n",
       "    <tr>\n",
       "      <th>15</th>\n",
       "      <td>5</td>\n",
       "      <td>1997-04-11</td>\n",
       "      <td>3</td>\n",
       "      <td>45.55</td>\n",
       "      <td>136.65</td>\n",
       "    </tr>\n",
       "    <tr>\n",
       "      <th>16</th>\n",
       "      <td>5</td>\n",
       "      <td>1997-05-31</td>\n",
       "      <td>3</td>\n",
       "      <td>38.71</td>\n",
       "      <td>116.13</td>\n",
       "    </tr>\n",
       "    <tr>\n",
       "      <th>17</th>\n",
       "      <td>5</td>\n",
       "      <td>1997-06-16</td>\n",
       "      <td>2</td>\n",
       "      <td>26.14</td>\n",
       "      <td>52.28</td>\n",
       "    </tr>\n",
       "    <tr>\n",
       "      <th>18</th>\n",
       "      <td>5</td>\n",
       "      <td>1997-07-22</td>\n",
       "      <td>2</td>\n",
       "      <td>28.14</td>\n",
       "      <td>56.28</td>\n",
       "    </tr>\n",
       "    <tr>\n",
       "      <th>19</th>\n",
       "      <td>5</td>\n",
       "      <td>1997-09-15</td>\n",
       "      <td>3</td>\n",
       "      <td>40.47</td>\n",
       "      <td>121.41</td>\n",
       "    </tr>\n",
       "    <tr>\n",
       "      <th>20</th>\n",
       "      <td>5</td>\n",
       "      <td>1997-12-08</td>\n",
       "      <td>4</td>\n",
       "      <td>46.46</td>\n",
       "      <td>185.84</td>\n",
       "    </tr>\n",
       "    <tr>\n",
       "      <th>21</th>\n",
       "      <td>5</td>\n",
       "      <td>1997-12-12</td>\n",
       "      <td>3</td>\n",
       "      <td>40.47</td>\n",
       "      <td>121.41</td>\n",
       "    </tr>\n",
       "    <tr>\n",
       "      <th>22</th>\n",
       "      <td>5</td>\n",
       "      <td>1998-01-03</td>\n",
       "      <td>3</td>\n",
       "      <td>37.47</td>\n",
       "      <td>112.41</td>\n",
       "    </tr>\n",
       "    <tr>\n",
       "      <th>23</th>\n",
       "      <td>6</td>\n",
       "      <td>1997-01-01</td>\n",
       "      <td>1</td>\n",
       "      <td>20.99</td>\n",
       "      <td>20.99</td>\n",
       "    </tr>\n",
       "    <tr>\n",
       "      <th>24</th>\n",
       "      <td>7</td>\n",
       "      <td>1997-01-01</td>\n",
       "      <td>2</td>\n",
       "      <td>28.74</td>\n",
       "      <td>57.48</td>\n",
       "    </tr>\n",
       "    <tr>\n",
       "      <th>25</th>\n",
       "      <td>7</td>\n",
       "      <td>1997-10-11</td>\n",
       "      <td>7</td>\n",
       "      <td>97.43</td>\n",
       "      <td>682.01</td>\n",
       "    </tr>\n",
       "    <tr>\n",
       "      <th>26</th>\n",
       "      <td>7</td>\n",
       "      <td>1998-03-22</td>\n",
       "      <td>9</td>\n",
       "      <td>138.50</td>\n",
       "      <td>1246.50</td>\n",
       "    </tr>\n",
       "    <tr>\n",
       "      <th>27</th>\n",
       "      <td>8</td>\n",
       "      <td>1997-01-01</td>\n",
       "      <td>1</td>\n",
       "      <td>9.77</td>\n",
       "      <td>9.77</td>\n",
       "    </tr>\n",
       "    <tr>\n",
       "      <th>28</th>\n",
       "      <td>8</td>\n",
       "      <td>1997-02-13</td>\n",
       "      <td>1</td>\n",
       "      <td>13.97</td>\n",
       "      <td>13.97</td>\n",
       "    </tr>\n",
       "    <tr>\n",
       "      <th>29</th>\n",
       "      <td>8</td>\n",
       "      <td>1997-06-17</td>\n",
       "      <td>3</td>\n",
       "      <td>45.29</td>\n",
       "      <td>135.87</td>\n",
       "    </tr>\n",
       "    <tr>\n",
       "      <th>30</th>\n",
       "      <td>8</td>\n",
       "      <td>1997-07-03</td>\n",
       "      <td>2</td>\n",
       "      <td>36.76</td>\n",
       "      <td>73.52</td>\n",
       "    </tr>\n",
       "    <tr>\n",
       "      <th>31</th>\n",
       "      <td>8</td>\n",
       "      <td>1997-11-16</td>\n",
       "      <td>8</td>\n",
       "      <td>53.42</td>\n",
       "      <td>356.00</td>\n",
       "    </tr>\n",
       "    <tr>\n",
       "      <th>32</th>\n",
       "      <td>8</td>\n",
       "      <td>1997-12-25</td>\n",
       "      <td>1</td>\n",
       "      <td>13.99</td>\n",
       "      <td>13.99</td>\n",
       "    </tr>\n",
       "    <tr>\n",
       "      <th>33</th>\n",
       "      <td>8</td>\n",
       "      <td>1998-03-29</td>\n",
       "      <td>2</td>\n",
       "      <td>24.46</td>\n",
       "      <td>48.92</td>\n",
       "    </tr>\n",
       "    <tr>\n",
       "      <th>34</th>\n",
       "      <td>9</td>\n",
       "      <td>1997-01-01</td>\n",
       "      <td>2</td>\n",
       "      <td>23.54</td>\n",
       "      <td>47.08</td>\n",
       "    </tr>\n",
       "    <tr>\n",
       "      <th>35</th>\n",
       "      <td>9</td>\n",
       "      <td>1997-05-13</td>\n",
       "      <td>2</td>\n",
       "      <td>30.33</td>\n",
       "      <td>60.66</td>\n",
       "    </tr>\n",
       "    <tr>\n",
       "      <th>36</th>\n",
       "      <td>9</td>\n",
       "      <td>1998-06-08</td>\n",
       "      <td>2</td>\n",
       "      <td>41.98</td>\n",
       "      <td>83.96</td>\n",
       "    </tr>\n",
       "    <tr>\n",
       "      <th>37</th>\n",
       "      <td>10</td>\n",
       "      <td>1997-01-21</td>\n",
       "      <td>3</td>\n",
       "      <td>39.31</td>\n",
       "      <td>117.93</td>\n",
       "    </tr>\n",
       "  </tbody>\n",
       "</table>\n",
       "</div>"
      ],
      "text/plain": [
       "    customer_id       date  quantity   price   amount\n",
       "0             1 1997-01-01         1   11.77    11.77\n",
       "1             2 1997-01-12         6   89.00   397.00\n",
       "2             3 1997-01-02         2   20.76    41.52\n",
       "3             3 1997-03-30         2   20.76    41.52\n",
       "4             3 1997-04-02         2   19.54    39.08\n",
       "5             3 1997-11-15         5   57.45   287.25\n",
       "6             3 1997-11-25         4   20.96    83.84\n",
       "7             3 1998-05-28         1   16.99    16.99\n",
       "8             4 1997-01-01         2   29.33    58.66\n",
       "9             4 1997-01-18         2   29.73    59.46\n",
       "10            4 1997-08-02         1   14.96    14.96\n",
       "11            4 1997-12-12         2   26.48    52.96\n",
       "12            5 1997-01-01         2   29.33    58.66\n",
       "13            5 1997-01-14         1   13.97    13.97\n",
       "14            5 1997-02-04         3   38.90   116.70\n",
       "15            5 1997-04-11         3   45.55   136.65\n",
       "16            5 1997-05-31         3   38.71   116.13\n",
       "17            5 1997-06-16         2   26.14    52.28\n",
       "18            5 1997-07-22         2   28.14    56.28\n",
       "19            5 1997-09-15         3   40.47   121.41\n",
       "20            5 1997-12-08         4   46.46   185.84\n",
       "21            5 1997-12-12         3   40.47   121.41\n",
       "22            5 1998-01-03         3   37.47   112.41\n",
       "23            6 1997-01-01         1   20.99    20.99\n",
       "24            7 1997-01-01         2   28.74    57.48\n",
       "25            7 1997-10-11         7   97.43   682.01\n",
       "26            7 1998-03-22         9  138.50  1246.50\n",
       "27            8 1997-01-01         1    9.77     9.77\n",
       "28            8 1997-02-13         1   13.97    13.97\n",
       "29            8 1997-06-17         3   45.29   135.87\n",
       "30            8 1997-07-03         2   36.76    73.52\n",
       "31            8 1997-11-16         8   53.42   356.00\n",
       "32            8 1997-12-25         1   13.99    13.99\n",
       "33            8 1998-03-29         2   24.46    48.92\n",
       "34            9 1997-01-01         2   23.54    47.08\n",
       "35            9 1997-05-13         2   30.33    60.66\n",
       "36            9 1998-06-08         2   41.98    83.96\n",
       "37           10 1997-01-21         3   39.31   117.93"
      ]
     },
     "execution_count": 76,
     "metadata": {},
     "output_type": "execute_result"
    }
   ],
   "source": [
    "cdnow_cust_id_subset_df"
   ]
  },
  {
   "cell_type": "code",
   "execution_count": 79,
   "metadata": {},
   "outputs": [
    {
     "name": "stderr",
     "output_type": "stream",
     "text": [
      "C:\\Users\\Sarthak\\anaconda3\\lib\\site-packages\\plotnine\\utils.py:371: FutureWarning: The frame.append method is deprecated and will be removed from pandas in a future version. Use pandas.concat instead.\n",
      "C:\\Users\\Sarthak\\anaconda3\\lib\\site-packages\\plotnine\\utils.py:371: FutureWarning: The frame.append method is deprecated and will be removed from pandas in a future version. Use pandas.concat instead.\n",
      "C:\\Users\\Sarthak\\anaconda3\\lib\\site-packages\\plotnine\\geoms\\geom_path.py:81: PlotnineWarning: geom_path: Each group consist of only one observation. Do you need to adjust the group aesthetic?\n",
      "C:\\Users\\Sarthak\\anaconda3\\lib\\site-packages\\plotnine\\geoms\\geom_path.py:81: PlotnineWarning: geom_path: Each group consist of only one observation. Do you need to adjust the group aesthetic?\n",
      "C:\\Users\\Sarthak\\anaconda3\\lib\\site-packages\\plotnine\\geoms\\geom_path.py:81: PlotnineWarning: geom_path: Each group consist of only one observation. Do you need to adjust the group aesthetic?\n"
     ]
    },
    {
     "data": {
      "image/png": "[encoded data removed]",
      "text/plain": [
       "<Figure size 1920x1440 with 10 Axes>"
      ]
     },
     "metadata": {},
     "output_type": "display_data"
    },
    {
     "data": {
      "text/plain": [
       "<ggplot: (93958397275)>"
      ]
     },
     "execution_count": 79,
     "metadata": {},
     "output_type": "execute_result"
    }
   ],
   "source": [
    "pn.ggplot(\n",
    "    pn.aes('date','amount',group='customer_id'),\n",
    "    data = cdnow_cust_id_subset_df\n",
    ") \\\n",
    "    +pn.geom_line() \\\n",
    "    +pn.geom_point() \\\n",
    "    +pn.facet_wrap('customer_id') \\\n",
    "    +pn.scale_x_date(\n",
    "        date_breaks= \"1 year\",\n",
    "        date_labels=\"%Y\"\n",
    "    )"
   ]
  },
  {
   "cell_type": "code",
   "execution_count": null,
   "metadata": {},
   "outputs": [],
   "source": [
    "#q1 - what will the customers spend in the next 90 days\n",
    "#q2 - what is the probability of a customer to make a purchase in the next 90 days"
   ]
  },
  {
   "cell_type": "code",
   "execution_count": null,
   "metadata": {},
   "outputs": [],
   "source": [
    "#temporal splitting"
   ]
  },
  {
   "cell_type": "code",
   "execution_count": 80,
   "metadata": {},
   "outputs": [],
   "source": [
    "n_days = 90\n",
    "max_date = cdnow_df['date'].max()\n",
    "cutoff = max_date - pd.to_timedelta(n_days, unit=\"d\")"
   ]
  },
  {
   "cell_type": "code",
   "execution_count": 81,
   "metadata": {},
   "outputs": [],
   "source": [
    "temporal_in_df = cdnow_df \\\n",
    "    [cdnow_df['date'] <= cutoff]\n",
    "\n",
    "temporal_out_df = cdnow_df \\\n",
    "    [cdnow_df['date'] > cutoff]"
   ]
  },
  {
   "cell_type": "code",
   "execution_count": null,
   "metadata": {},
   "outputs": [],
   "source": [
    "#feature engineering"
   ]
  },
  {
   "cell_type": "code",
   "execution_count": 121,
   "metadata": {},
   "outputs": [],
   "source": [
    "#target\n",
    "targets_df = temporal_out_df \\\n",
    "    .drop(\"quantity\", axis=1) \\\n",
    "    .drop(\"price\", axis=1) \\\n",
    "    .groupby(\"customer_id\") \\\n",
    "    .sum() \\\n",
    "    .rename({\"amount\":\"spend_90_total\"}, axis=1) \\\n",
    "    .assign(spend_90_flag = 1) \n",
    "\n"
   ]
  },
  {
   "cell_type": "code",
   "execution_count": 118,
   "metadata": {},
   "outputs": [
    {
     "data": {
      "text/html": [
       "<div>\n",
       "<style scoped>\n",
       "    .dataframe tbody tr th:only-of-type {\n",
       "        vertical-align: middle;\n",
       "    }\n",
       "\n",
       "    .dataframe tbody tr th {\n",
       "        vertical-align: top;\n",
       "    }\n",
       "\n",
       "    .dataframe thead th {\n",
       "        text-align: right;\n",
       "    }\n",
       "</style>\n",
       "<table border=\"1\" class=\"dataframe\">\n",
       "  <thead>\n",
       "    <tr style=\"text-align: right;\">\n",
       "      <th></th>\n",
       "      <th>customer_id</th>\n",
       "      <th>spend_90_total</th>\n",
       "      <th>spend_90_flag</th>\n",
       "    </tr>\n",
       "  </thead>\n",
       "  <tbody>\n",
       "    <tr>\n",
       "      <th>0</th>\n",
       "      <td>3</td>\n",
       "      <td>16.99</td>\n",
       "      <td>1</td>\n",
       "    </tr>\n",
       "    <tr>\n",
       "      <th>1</th>\n",
       "      <td>9</td>\n",
       "      <td>83.96</td>\n",
       "      <td>1</td>\n",
       "    </tr>\n",
       "    <tr>\n",
       "      <th>2</th>\n",
       "      <td>25</td>\n",
       "      <td>148.35</td>\n",
       "      <td>1</td>\n",
       "    </tr>\n",
       "    <tr>\n",
       "      <th>3</th>\n",
       "      <td>29</td>\n",
       "      <td>193.80</td>\n",
       "      <td>1</td>\n",
       "    </tr>\n",
       "    <tr>\n",
       "      <th>4</th>\n",
       "      <td>31</td>\n",
       "      <td>396.86</td>\n",
       "      <td>1</td>\n",
       "    </tr>\n",
       "  </tbody>\n",
       "</table>\n",
       "</div>"
      ],
      "text/plain": [
       "   customer_id  spend_90_total  spend_90_flag\n",
       "0            3           16.99              1\n",
       "1            9           83.96              1\n",
       "2           25          148.35              1\n",
       "3           29          193.80              1\n",
       "4           31          396.86              1"
      ]
     },
     "execution_count": 118,
     "metadata": {},
     "output_type": "execute_result"
    }
   ],
   "source": [
    "targets_df.head()"
   ]
  },
  {
   "cell_type": "code",
   "execution_count": null,
   "metadata": {},
   "outputs": [],
   "source": [
    "#feature - recency"
   ]
  },
  {
   "cell_type": "code",
   "execution_count": 95,
   "metadata": {},
   "outputs": [],
   "source": [
    "max_date = temporal_in_df['date'].max()"
   ]
  },
  {
   "cell_type": "code",
   "execution_count": 100,
   "metadata": {},
   "outputs": [],
   "source": [
    "recency_features_df = temporal_in_df \\\n",
    "    [['customer_id','date']] \\\n",
    "    .groupby('customer_id') \\\n",
    "    .apply(\n",
    "        lambda x: (x['date'].max() - max_date) / pd.to_timedelta(1, \"day\")\n",
    "    ) \\\n",
    "    .to_frame() \\\n",
    "    .set_axis([\"recency\"], axis=1)"
   ]
  },
  {
   "cell_type": "code",
   "execution_count": 101,
   "metadata": {},
   "outputs": [
    {
     "data": {
      "text/html": [
       "<div>\n",
       "<style scoped>\n",
       "    .dataframe tbody tr th:only-of-type {\n",
       "        vertical-align: middle;\n",
       "    }\n",
       "\n",
       "    .dataframe tbody tr th {\n",
       "        vertical-align: top;\n",
       "    }\n",
       "\n",
       "    .dataframe thead th {\n",
       "        text-align: right;\n",
       "    }\n",
       "</style>\n",
       "<table border=\"1\" class=\"dataframe\">\n",
       "  <thead>\n",
       "    <tr style=\"text-align: right;\">\n",
       "      <th></th>\n",
       "      <th>recency</th>\n",
       "    </tr>\n",
       "    <tr>\n",
       "      <th>customer_id</th>\n",
       "      <th></th>\n",
       "    </tr>\n",
       "  </thead>\n",
       "  <tbody>\n",
       "    <tr>\n",
       "      <th>1</th>\n",
       "      <td>-455.0</td>\n",
       "    </tr>\n",
       "    <tr>\n",
       "      <th>2</th>\n",
       "      <td>-444.0</td>\n",
       "    </tr>\n",
       "    <tr>\n",
       "      <th>3</th>\n",
       "      <td>-127.0</td>\n",
       "    </tr>\n",
       "    <tr>\n",
       "      <th>4</th>\n",
       "      <td>-110.0</td>\n",
       "    </tr>\n",
       "    <tr>\n",
       "      <th>5</th>\n",
       "      <td>-88.0</td>\n",
       "    </tr>\n",
       "    <tr>\n",
       "      <th>...</th>\n",
       "      <td>...</td>\n",
       "    </tr>\n",
       "    <tr>\n",
       "      <th>23566</th>\n",
       "      <td>-372.0</td>\n",
       "    </tr>\n",
       "    <tr>\n",
       "      <th>23567</th>\n",
       "      <td>-372.0</td>\n",
       "    </tr>\n",
       "    <tr>\n",
       "      <th>23568</th>\n",
       "      <td>-344.0</td>\n",
       "    </tr>\n",
       "    <tr>\n",
       "      <th>23569</th>\n",
       "      <td>-372.0</td>\n",
       "    </tr>\n",
       "    <tr>\n",
       "      <th>23570</th>\n",
       "      <td>-371.0</td>\n",
       "    </tr>\n",
       "  </tbody>\n",
       "</table>\n",
       "<p>23570 rows × 1 columns</p>\n",
       "</div>"
      ],
      "text/plain": [
       "             recency\n",
       "customer_id         \n",
       "1             -455.0\n",
       "2             -444.0\n",
       "3             -127.0\n",
       "4             -110.0\n",
       "5              -88.0\n",
       "...              ...\n",
       "23566         -372.0\n",
       "23567         -372.0\n",
       "23568         -344.0\n",
       "23569         -372.0\n",
       "23570         -371.0\n",
       "\n",
       "[23570 rows x 1 columns]"
      ]
     },
     "execution_count": 101,
     "metadata": {},
     "output_type": "execute_result"
    }
   ],
   "source": [
    "recency_features_df"
   ]
  },
  {
   "cell_type": "code",
   "execution_count": 102,
   "metadata": {},
   "outputs": [],
   "source": [
    "#feature - frequency\n"
   ]
  },
  {
   "cell_type": "code",
   "execution_count": 105,
   "metadata": {},
   "outputs": [],
   "source": [
    "frequency_features_df = temporal_in_df \\\n",
    "    [['customer_id','date']] \\\n",
    "    .groupby('customer_id') \\\n",
    "    .count() \\\n",
    "    .set_axis([\"frequency\"], axis=1)"
   ]
  },
  {
   "cell_type": "code",
   "execution_count": 106,
   "metadata": {},
   "outputs": [
    {
     "data": {
      "text/html": [
       "<div>\n",
       "<style scoped>\n",
       "    .dataframe tbody tr th:only-of-type {\n",
       "        vertical-align: middle;\n",
       "    }\n",
       "\n",
       "    .dataframe tbody tr th {\n",
       "        vertical-align: top;\n",
       "    }\n",
       "\n",
       "    .dataframe thead th {\n",
       "        text-align: right;\n",
       "    }\n",
       "</style>\n",
       "<table border=\"1\" class=\"dataframe\">\n",
       "  <thead>\n",
       "    <tr style=\"text-align: right;\">\n",
       "      <th></th>\n",
       "      <th>frequency</th>\n",
       "    </tr>\n",
       "    <tr>\n",
       "      <th>customer_id</th>\n",
       "      <th></th>\n",
       "    </tr>\n",
       "  </thead>\n",
       "  <tbody>\n",
       "    <tr>\n",
       "      <th>1</th>\n",
       "      <td>1</td>\n",
       "    </tr>\n",
       "    <tr>\n",
       "      <th>2</th>\n",
       "      <td>2</td>\n",
       "    </tr>\n",
       "    <tr>\n",
       "      <th>3</th>\n",
       "      <td>5</td>\n",
       "    </tr>\n",
       "    <tr>\n",
       "      <th>4</th>\n",
       "      <td>4</td>\n",
       "    </tr>\n",
       "    <tr>\n",
       "      <th>5</th>\n",
       "      <td>11</td>\n",
       "    </tr>\n",
       "    <tr>\n",
       "      <th>...</th>\n",
       "      <td>...</td>\n",
       "    </tr>\n",
       "    <tr>\n",
       "      <th>23566</th>\n",
       "      <td>1</td>\n",
       "    </tr>\n",
       "    <tr>\n",
       "      <th>23567</th>\n",
       "      <td>1</td>\n",
       "    </tr>\n",
       "    <tr>\n",
       "      <th>23568</th>\n",
       "      <td>3</td>\n",
       "    </tr>\n",
       "    <tr>\n",
       "      <th>23569</th>\n",
       "      <td>1</td>\n",
       "    </tr>\n",
       "    <tr>\n",
       "      <th>23570</th>\n",
       "      <td>2</td>\n",
       "    </tr>\n",
       "  </tbody>\n",
       "</table>\n",
       "<p>23570 rows × 1 columns</p>\n",
       "</div>"
      ],
      "text/plain": [
       "             frequency\n",
       "customer_id           \n",
       "1                    1\n",
       "2                    2\n",
       "3                    5\n",
       "4                    4\n",
       "5                   11\n",
       "...                ...\n",
       "23566                1\n",
       "23567                1\n",
       "23568                3\n",
       "23569                1\n",
       "23570                2\n",
       "\n",
       "[23570 rows x 1 columns]"
      ]
     },
     "execution_count": 106,
     "metadata": {},
     "output_type": "execute_result"
    }
   ],
   "source": [
    "frequency_features_df"
   ]
  },
  {
   "cell_type": "code",
   "execution_count": 107,
   "metadata": {},
   "outputs": [],
   "source": [
    "#feature - monetary\n"
   ]
  },
  {
   "cell_type": "code",
   "execution_count": 110,
   "metadata": {},
   "outputs": [],
   "source": [
    "monetary_features_df = temporal_in_df \\\n",
    "    [['customer_id','amount']] \\\n",
    "    .groupby('customer_id') \\\n",
    "    .aggregate(\n",
    "        {\n",
    "            'amount': [\"sum\",\"mean\"]\n",
    "        }\n",
    "    ) \\\n",
    "    .set_axis([\"amount_sum\",\"amount_mean\"], axis=1)"
   ]
  },
  {
   "cell_type": "code",
   "execution_count": 111,
   "metadata": {},
   "outputs": [
    {
     "data": {
      "text/html": [
       "<div>\n",
       "<style scoped>\n",
       "    .dataframe tbody tr th:only-of-type {\n",
       "        vertical-align: middle;\n",
       "    }\n",
       "\n",
       "    .dataframe tbody tr th {\n",
       "        vertical-align: top;\n",
       "    }\n",
       "\n",
       "    .dataframe thead th {\n",
       "        text-align: right;\n",
       "    }\n",
       "</style>\n",
       "<table border=\"1\" class=\"dataframe\">\n",
       "  <thead>\n",
       "    <tr style=\"text-align: right;\">\n",
       "      <th></th>\n",
       "      <th>amount_sum</th>\n",
       "      <th>amount_mean</th>\n",
       "    </tr>\n",
       "    <tr>\n",
       "      <th>customer_id</th>\n",
       "      <th></th>\n",
       "      <th></th>\n",
       "    </tr>\n",
       "  </thead>\n",
       "  <tbody>\n",
       "    <tr>\n",
       "      <th>1</th>\n",
       "      <td>11.77</td>\n",
       "      <td>11.770000</td>\n",
       "    </tr>\n",
       "    <tr>\n",
       "      <th>2</th>\n",
       "      <td>397.00</td>\n",
       "      <td>198.500000</td>\n",
       "    </tr>\n",
       "    <tr>\n",
       "      <th>3</th>\n",
       "      <td>493.21</td>\n",
       "      <td>98.642000</td>\n",
       "    </tr>\n",
       "    <tr>\n",
       "      <th>4</th>\n",
       "      <td>186.04</td>\n",
       "      <td>46.510000</td>\n",
       "    </tr>\n",
       "    <tr>\n",
       "      <th>5</th>\n",
       "      <td>1091.74</td>\n",
       "      <td>99.249091</td>\n",
       "    </tr>\n",
       "    <tr>\n",
       "      <th>...</th>\n",
       "      <td>...</td>\n",
       "      <td>...</td>\n",
       "    </tr>\n",
       "    <tr>\n",
       "      <th>23566</th>\n",
       "      <td>72.00</td>\n",
       "      <td>72.000000</td>\n",
       "    </tr>\n",
       "    <tr>\n",
       "      <th>23567</th>\n",
       "      <td>20.97</td>\n",
       "      <td>20.970000</td>\n",
       "    </tr>\n",
       "    <tr>\n",
       "      <th>23568</th>\n",
       "      <td>372.92</td>\n",
       "      <td>124.306667</td>\n",
       "    </tr>\n",
       "    <tr>\n",
       "      <th>23569</th>\n",
       "      <td>51.48</td>\n",
       "      <td>51.480000</td>\n",
       "    </tr>\n",
       "    <tr>\n",
       "      <th>23570</th>\n",
       "      <td>239.28</td>\n",
       "      <td>119.640000</td>\n",
       "    </tr>\n",
       "  </tbody>\n",
       "</table>\n",
       "<p>23570 rows × 2 columns</p>\n",
       "</div>"
      ],
      "text/plain": [
       "             amount_sum  amount_mean\n",
       "customer_id                         \n",
       "1                 11.77    11.770000\n",
       "2                397.00   198.500000\n",
       "3                493.21    98.642000\n",
       "4                186.04    46.510000\n",
       "5               1091.74    99.249091\n",
       "...                 ...          ...\n",
       "23566             72.00    72.000000\n",
       "23567             20.97    20.970000\n",
       "23568            372.92   124.306667\n",
       "23569             51.48    51.480000\n",
       "23570            239.28   119.640000\n",
       "\n",
       "[23570 rows x 2 columns]"
      ]
     },
     "execution_count": 111,
     "metadata": {},
     "output_type": "execute_result"
    }
   ],
   "source": [
    "monetary_features_df"
   ]
  },
  {
   "cell_type": "code",
   "execution_count": 112,
   "metadata": {},
   "outputs": [],
   "source": [
    "#combine features"
   ]
  },
  {
   "cell_type": "code",
   "execution_count": 122,
   "metadata": {},
   "outputs": [],
   "source": [
    "features_df = pd.concat([recency_features_df, frequency_features_df, monetary_features_df], axis=1) \\\n",
    "    .merge(\n",
    "        targets_df,\n",
    "        left_index= True,\n",
    "        right_index=True,\n",
    "        how = \"left\") \\\n",
    "    .fillna(0)"
   ]
  },
  {
   "cell_type": "code",
   "execution_count": 123,
   "metadata": {},
   "outputs": [
    {
     "data": {
      "text/html": [
       "<div>\n",
       "<style scoped>\n",
       "    .dataframe tbody tr th:only-of-type {\n",
       "        vertical-align: middle;\n",
       "    }\n",
       "\n",
       "    .dataframe tbody tr th {\n",
       "        vertical-align: top;\n",
       "    }\n",
       "\n",
       "    .dataframe thead th {\n",
       "        text-align: right;\n",
       "    }\n",
       "</style>\n",
       "<table border=\"1\" class=\"dataframe\">\n",
       "  <thead>\n",
       "    <tr style=\"text-align: right;\">\n",
       "      <th></th>\n",
       "      <th>recency</th>\n",
       "      <th>frequency</th>\n",
       "      <th>amount_sum</th>\n",
       "      <th>amount_mean</th>\n",
       "      <th>spend_90_total</th>\n",
       "      <th>spend_90_flag</th>\n",
       "    </tr>\n",
       "    <tr>\n",
       "      <th>customer_id</th>\n",
       "      <th></th>\n",
       "      <th></th>\n",
       "      <th></th>\n",
       "      <th></th>\n",
       "      <th></th>\n",
       "      <th></th>\n",
       "    </tr>\n",
       "  </thead>\n",
       "  <tbody>\n",
       "    <tr>\n",
       "      <th>1</th>\n",
       "      <td>-455.0</td>\n",
       "      <td>1</td>\n",
       "      <td>11.77</td>\n",
       "      <td>11.770000</td>\n",
       "      <td>0.00</td>\n",
       "      <td>0.0</td>\n",
       "    </tr>\n",
       "    <tr>\n",
       "      <th>2</th>\n",
       "      <td>-444.0</td>\n",
       "      <td>2</td>\n",
       "      <td>397.00</td>\n",
       "      <td>198.500000</td>\n",
       "      <td>0.00</td>\n",
       "      <td>0.0</td>\n",
       "    </tr>\n",
       "    <tr>\n",
       "      <th>3</th>\n",
       "      <td>-127.0</td>\n",
       "      <td>5</td>\n",
       "      <td>493.21</td>\n",
       "      <td>98.642000</td>\n",
       "      <td>16.99</td>\n",
       "      <td>1.0</td>\n",
       "    </tr>\n",
       "    <tr>\n",
       "      <th>4</th>\n",
       "      <td>-110.0</td>\n",
       "      <td>4</td>\n",
       "      <td>186.04</td>\n",
       "      <td>46.510000</td>\n",
       "      <td>0.00</td>\n",
       "      <td>0.0</td>\n",
       "    </tr>\n",
       "    <tr>\n",
       "      <th>5</th>\n",
       "      <td>-88.0</td>\n",
       "      <td>11</td>\n",
       "      <td>1091.74</td>\n",
       "      <td>99.249091</td>\n",
       "      <td>0.00</td>\n",
       "      <td>0.0</td>\n",
       "    </tr>\n",
       "    <tr>\n",
       "      <th>...</th>\n",
       "      <td>...</td>\n",
       "      <td>...</td>\n",
       "      <td>...</td>\n",
       "      <td>...</td>\n",
       "      <td>...</td>\n",
       "      <td>...</td>\n",
       "    </tr>\n",
       "    <tr>\n",
       "      <th>23566</th>\n",
       "      <td>-372.0</td>\n",
       "      <td>1</td>\n",
       "      <td>72.00</td>\n",
       "      <td>72.000000</td>\n",
       "      <td>0.00</td>\n",
       "      <td>0.0</td>\n",
       "    </tr>\n",
       "    <tr>\n",
       "      <th>23567</th>\n",
       "      <td>-372.0</td>\n",
       "      <td>1</td>\n",
       "      <td>20.97</td>\n",
       "      <td>20.970000</td>\n",
       "      <td>0.00</td>\n",
       "      <td>0.0</td>\n",
       "    </tr>\n",
       "    <tr>\n",
       "      <th>23568</th>\n",
       "      <td>-344.0</td>\n",
       "      <td>3</td>\n",
       "      <td>372.92</td>\n",
       "      <td>124.306667</td>\n",
       "      <td>0.00</td>\n",
       "      <td>0.0</td>\n",
       "    </tr>\n",
       "    <tr>\n",
       "      <th>23569</th>\n",
       "      <td>-372.0</td>\n",
       "      <td>1</td>\n",
       "      <td>51.48</td>\n",
       "      <td>51.480000</td>\n",
       "      <td>0.00</td>\n",
       "      <td>0.0</td>\n",
       "    </tr>\n",
       "    <tr>\n",
       "      <th>23570</th>\n",
       "      <td>-371.0</td>\n",
       "      <td>2</td>\n",
       "      <td>239.28</td>\n",
       "      <td>119.640000</td>\n",
       "      <td>0.00</td>\n",
       "      <td>0.0</td>\n",
       "    </tr>\n",
       "  </tbody>\n",
       "</table>\n",
       "<p>23570 rows × 6 columns</p>\n",
       "</div>"
      ],
      "text/plain": [
       "             recency  frequency  amount_sum  amount_mean  spend_90_total  \\\n",
       "customer_id                                                                \n",
       "1             -455.0          1       11.77    11.770000            0.00   \n",
       "2             -444.0          2      397.00   198.500000            0.00   \n",
       "3             -127.0          5      493.21    98.642000           16.99   \n",
       "4             -110.0          4      186.04    46.510000            0.00   \n",
       "5              -88.0         11     1091.74    99.249091            0.00   \n",
       "...              ...        ...         ...          ...             ...   \n",
       "23566         -372.0          1       72.00    72.000000            0.00   \n",
       "23567         -372.0          1       20.97    20.970000            0.00   \n",
       "23568         -344.0          3      372.92   124.306667            0.00   \n",
       "23569         -372.0          1       51.48    51.480000            0.00   \n",
       "23570         -371.0          2      239.28   119.640000            0.00   \n",
       "\n",
       "             spend_90_flag  \n",
       "customer_id                 \n",
       "1                      0.0  \n",
       "2                      0.0  \n",
       "3                      1.0  \n",
       "4                      0.0  \n",
       "5                      0.0  \n",
       "...                    ...  \n",
       "23566                  0.0  \n",
       "23567                  0.0  \n",
       "23568                  0.0  \n",
       "23569                  0.0  \n",
       "23570                  0.0  \n",
       "\n",
       "[23570 rows x 6 columns]"
      ]
     },
     "execution_count": 123,
     "metadata": {},
     "output_type": "execute_result"
    }
   ],
   "source": [
    "features_df"
   ]
  },
  {
   "cell_type": "code",
   "execution_count": 124,
   "metadata": {},
   "outputs": [],
   "source": [
    "#machine learning"
   ]
  },
  {
   "cell_type": "code",
   "execution_count": 129,
   "metadata": {},
   "outputs": [],
   "source": [
    "X = features_df[['recency','frequency','amount_sum','amount_mean']]\n",
    "\n",
    "#next 90 day spend prediction\n",
    "\n",
    "y_spend = features_df['spend_90_total']"
   ]
  },
  {
   "cell_type": "code",
   "execution_count": 132,
   "metadata": {},
   "outputs": [],
   "source": [
    "xgb_reg_spec = XGBRegressor(\n",
    "    objective = \"reg:squarederror\",\n",
    "    random_state=123\n",
    ")\n",
    "\n",
    "xgb_reg_model = GridSearchCV(\n",
    "    estimator = xgb_reg_spec,\n",
    "    param_grid = dict(learning_rate= [0.01,0.1,0.3,0.5]),\n",
    "    scoring = \"neg_mean_absolute_error\",\n",
    "    refit = True,\n",
    "    cv = 5\n",
    ")"
   ]
  },
  {
   "cell_type": "code",
   "execution_count": 133,
   "metadata": {},
   "outputs": [
    {
     "data": {
      "text/plain": [
       "GridSearchCV(cv=5,\n",
       "             estimator=XGBRegressor(base_score=None, booster=None,\n",
       "                                    callbacks=None, colsample_bylevel=None,\n",
       "                                    colsample_bynode=None,\n",
       "                                    colsample_bytree=None,\n",
       "                                    early_stopping_rounds=None,\n",
       "                                    enable_categorical=False, eval_metric=None,\n",
       "                                    gamma=None, gpu_id=None, grow_policy=None,\n",
       "                                    importance_type=None,\n",
       "                                    interaction_constraints=None,\n",
       "                                    learning_rate=None, max_bin=None,\n",
       "                                    max_cat_to_onehot=None, max_delta_step=None,\n",
       "                                    max_depth=None, max_leaves=None,\n",
       "                                    min_child_weight=None, missing=nan,\n",
       "                                    monotone_constraints=None, n_estimators=100,\n",
       "                                    n_jobs=None, num_parallel_tree=None,\n",
       "                                    predictor=None, random_state=123,\n",
       "                                    reg_alpha=None, reg_lambda=None, ...),\n",
       "             param_grid={'learning_rate': [0.01, 0.1, 0.3, 0.5]},\n",
       "             scoring='neg_mean_absolute_error')"
      ]
     },
     "execution_count": 133,
     "metadata": {},
     "output_type": "execute_result"
    }
   ],
   "source": [
    "xgb_reg_model.fit(X, y_spend)"
   ]
  },
  {
   "cell_type": "code",
   "execution_count": 134,
   "metadata": {},
   "outputs": [
    {
     "data": {
      "text/plain": [
       "-53.239599841589566"
      ]
     },
     "execution_count": 134,
     "metadata": {},
     "output_type": "execute_result"
    }
   ],
   "source": [
    "xgb_reg_model.best_score_"
   ]
  },
  {
   "cell_type": "code",
   "execution_count": 135,
   "metadata": {},
   "outputs": [
    {
     "data": {
      "text/plain": [
       "{'learning_rate': 0.01}"
      ]
     },
     "execution_count": 135,
     "metadata": {},
     "output_type": "execute_result"
    }
   ],
   "source": [
    "xgb_reg_model.best_params_"
   ]
  },
  {
   "cell_type": "code",
   "execution_count": 136,
   "metadata": {},
   "outputs": [
    {
     "data": {
      "text/plain": [
       "XGBRegressor(base_score=0.5, booster='gbtree', callbacks=None,\n",
       "             colsample_bylevel=1, colsample_bynode=1, colsample_bytree=1,\n",
       "             early_stopping_rounds=None, enable_categorical=False,\n",
       "             eval_metric=None, gamma=0, gpu_id=-1, grow_policy='depthwise',\n",
       "             importance_type=None, interaction_constraints='',\n",
       "             learning_rate=0.01, max_bin=256, max_cat_to_onehot=4,\n",
       "             max_delta_step=0, max_depth=6, max_leaves=0, min_child_weight=1,\n",
       "             missing=nan, monotone_constraints='()', n_estimators=100, n_jobs=0,\n",
       "             num_parallel_tree=1, predictor='auto', random_state=123,\n",
       "             reg_alpha=0, reg_lambda=1, ...)"
      ]
     },
     "execution_count": 136,
     "metadata": {},
     "output_type": "execute_result"
    }
   ],
   "source": [
    "xgb_reg_model.best_estimator_"
   ]
  },
  {
   "cell_type": "code",
   "execution_count": 137,
   "metadata": {},
   "outputs": [],
   "source": [
    "predictions_reg = xgb_reg_model.predict(X)"
   ]
  },
  {
   "cell_type": "code",
   "execution_count": 138,
   "metadata": {},
   "outputs": [
    {
     "data": {
      "text/plain": [
       "array([ 1.5996397,  5.646012 , 38.968006 , ..., 10.189518 ,  3.5831947,\n",
       "        5.9208965], dtype=float32)"
      ]
     },
     "execution_count": 138,
     "metadata": {},
     "output_type": "execute_result"
    }
   ],
   "source": [
    "predictions_reg"
   ]
  },
  {
   "cell_type": "code",
   "execution_count": 139,
   "metadata": {},
   "outputs": [],
   "source": [
    "#next 90 day spend prob"
   ]
  },
  {
   "cell_type": "code",
   "execution_count": 140,
   "metadata": {},
   "outputs": [],
   "source": [
    "y_prob = features_df['spend_90_flag']"
   ]
  },
  {
   "cell_type": "code",
   "execution_count": 141,
   "metadata": {},
   "outputs": [],
   "source": [
    "xgb_clf_spec = XGBClassifier(\n",
    "    objective = \"binary:logistic\",\n",
    "    random_state=123\n",
    ")\n",
    "\n",
    "xgb_clf_model = GridSearchCV(\n",
    "    estimator = xgb_clf_spec,\n",
    "    param_grid = dict(learning_rate=[0.01,0.1,0.3,0.5]),\n",
    "    scoring = 'roc_auc',\n",
    "    refit = True,\n",
    "    cv=5)"
   ]
  },
  {
   "cell_type": "code",
   "execution_count": 142,
   "metadata": {},
   "outputs": [
    {
     "data": {
      "text/plain": [
       "GridSearchCV(cv=5,\n",
       "             estimator=XGBClassifier(base_score=None, booster=None,\n",
       "                                     callbacks=None, colsample_bylevel=None,\n",
       "                                     colsample_bynode=None,\n",
       "                                     colsample_bytree=None,\n",
       "                                     early_stopping_rounds=None,\n",
       "                                     enable_categorical=False, eval_metric=None,\n",
       "                                     gamma=None, gpu_id=None, grow_policy=None,\n",
       "                                     importance_type=None,\n",
       "                                     interaction_constraints=None,\n",
       "                                     learning_rate=None, max_bin=None,\n",
       "                                     max_cat_to_onehot=None,\n",
       "                                     max_delta_step=None, max_depth=None,\n",
       "                                     max_leaves=None, min_child_weight=None,\n",
       "                                     missing=nan, monotone_constraints=None,\n",
       "                                     n_estimators=100, n_jobs=None,\n",
       "                                     num_parallel_tree=None, predictor=None,\n",
       "                                     random_state=123, reg_alpha=None,\n",
       "                                     reg_lambda=None, ...),\n",
       "             param_grid={'learning_rate': [0.01, 0.1, 0.3, 0.5]},\n",
       "             scoring='roc_auc')"
      ]
     },
     "execution_count": 142,
     "metadata": {},
     "output_type": "execute_result"
    }
   ],
   "source": [
    "xgb_clf_model.fit(X, y_prob)"
   ]
  },
  {
   "cell_type": "code",
   "execution_count": 143,
   "metadata": {},
   "outputs": [
    {
     "data": {
      "text/plain": [
       "0.8355614209974176"
      ]
     },
     "execution_count": 143,
     "metadata": {},
     "output_type": "execute_result"
    }
   ],
   "source": [
    "xgb_clf_model.best_score_"
   ]
  },
  {
   "cell_type": "code",
   "execution_count": 144,
   "metadata": {},
   "outputs": [
    {
     "data": {
      "text/plain": [
       "{'learning_rate': 0.01}"
      ]
     },
     "execution_count": 144,
     "metadata": {},
     "output_type": "execute_result"
    }
   ],
   "source": [
    "xgb_clf_model.best_params_"
   ]
  },
  {
   "cell_type": "code",
   "execution_count": 145,
   "metadata": {},
   "outputs": [
    {
     "data": {
      "text/plain": [
       "XGBClassifier(base_score=0.5, booster='gbtree', callbacks=None,\n",
       "              colsample_bylevel=1, colsample_bynode=1, colsample_bytree=1,\n",
       "              early_stopping_rounds=None, enable_categorical=False,\n",
       "              eval_metric=None, gamma=0, gpu_id=-1, grow_policy='depthwise',\n",
       "              importance_type=None, interaction_constraints='',\n",
       "              learning_rate=0.01, max_bin=256, max_cat_to_onehot=4,\n",
       "              max_delta_step=0, max_depth=6, max_leaves=0, min_child_weight=1,\n",
       "              missing=nan, monotone_constraints='()', n_estimators=100,\n",
       "              n_jobs=0, num_parallel_tree=1, predictor='auto', random_state=123,\n",
       "              reg_alpha=0, reg_lambda=1, ...)"
      ]
     },
     "execution_count": 145,
     "metadata": {},
     "output_type": "execute_result"
    }
   ],
   "source": [
    "xgb_clf_model.best_estimator_"
   ]
  },
  {
   "cell_type": "code",
   "execution_count": 146,
   "metadata": {},
   "outputs": [],
   "source": [
    "predictions_clf = xgb_clf_model.predict_proba(X)"
   ]
  },
  {
   "cell_type": "code",
   "execution_count": 147,
   "metadata": {},
   "outputs": [
    {
     "data": {
      "text/plain": [
       "array([[0.79954576, 0.20045425],\n",
       "       [0.7901529 , 0.20984711],\n",
       "       [0.63703203, 0.362968  ],\n",
       "       ...,\n",
       "       [0.7569424 , 0.2430576 ],\n",
       "       [0.7954756 , 0.20452441],\n",
       "       [0.78004754, 0.21995246]], dtype=float32)"
      ]
     },
     "execution_count": 147,
     "metadata": {},
     "output_type": "execute_result"
    }
   ],
   "source": [
    "predictions_clf"
   ]
  },
  {
   "cell_type": "code",
   "execution_count": 148,
   "metadata": {},
   "outputs": [],
   "source": [
    "#feature importance"
   ]
  },
  {
   "cell_type": "code",
   "execution_count": 149,
   "metadata": {},
   "outputs": [],
   "source": [
    "#spend amount"
   ]
  },
  {
   "cell_type": "code",
   "execution_count": 150,
   "metadata": {},
   "outputs": [],
   "source": [
    "imp_spend_amount_dict = xgb_reg_model \\\n",
    "    .best_estimator_ \\\n",
    "    .get_booster() \\\n",
    "    .get_score(importance_type = 'gain')"
   ]
  },
  {
   "cell_type": "code",
   "execution_count": 151,
   "metadata": {},
   "outputs": [
    {
     "data": {
      "text/plain": [
       "{'recency': 12108510.0,\n",
       " 'frequency': 40790544.0,\n",
       " 'amount_sum': 355997504.0,\n",
       " 'amount_mean': 1718802.625}"
      ]
     },
     "execution_count": 151,
     "metadata": {},
     "output_type": "execute_result"
    }
   ],
   "source": [
    "imp_spend_amount_dict"
   ]
  },
  {
   "cell_type": "code",
   "execution_count": 154,
   "metadata": {},
   "outputs": [],
   "source": [
    "imp_spend_amount_df = pd.DataFrame(\n",
    "    data = {\n",
    "        'feature':list(imp_spend_amount_dict.keys()),\n",
    "        'value':list(imp_spend_amount_dict.values())\n",
    "    }\n",
    ")   \\\n",
    "    .assign(\n",
    "        feature = lambda x: cat.cat_reorder(x['feature'], x['value'])\n",
    "    )"
   ]
  },
  {
   "cell_type": "code",
   "execution_count": 155,
   "metadata": {},
   "outputs": [
    {
     "data": {
      "image/png": "[encoded data removed]",
      "text/plain": [
       "<Figure size 1920x1440 with 1 Axes>"
      ]
     },
     "metadata": {},
     "output_type": "display_data"
    },
    {
     "data": {
      "text/plain": [
       "<ggplot: (93958860987)>"
      ]
     },
     "execution_count": 155,
     "metadata": {},
     "output_type": "execute_result"
    }
   ],
   "source": [
    "pn.ggplot(\n",
    "    pn.aes('feature', 'value'),\n",
    "    data = imp_spend_amount_df\n",
    ") \\\n",
    "    +pn.geom_col() \\\n",
    "    +pn.coord_flip()"
   ]
  },
  {
   "cell_type": "code",
   "execution_count": 156,
   "metadata": {},
   "outputs": [],
   "source": [
    "#spend prob model"
   ]
  },
  {
   "cell_type": "code",
   "execution_count": 157,
   "metadata": {},
   "outputs": [],
   "source": [
    "imp_spend_prob_dict = xgb_clf_model \\\n",
    "    .best_estimator_ \\\n",
    "    .get_booster() \\\n",
    "    .get_score(importance_type = 'gain')"
   ]
  },
  {
   "cell_type": "code",
   "execution_count": 158,
   "metadata": {},
   "outputs": [],
   "source": [
    "imp_spend_prob_df = pd.DataFrame(\n",
    "    data = {\n",
    "        'feature':list(imp_spend_prob_dict.keys()),\n",
    "        'value':list(imp_spend_prob_dict.values())\n",
    "    }\n",
    ")   \\\n",
    "    .assign(\n",
    "        feature = lambda x: cat.cat_reorder(x['feature'], x['value'])\n",
    "    )"
   ]
  },
  {
   "cell_type": "code",
   "execution_count": 159,
   "metadata": {},
   "outputs": [
    {
     "data": {
      "image/png": "[encoded data removed]",
      "text/plain": [
       "<Figure size 1920x1440 with 1 Axes>"
      ]
     },
     "metadata": {},
     "output_type": "display_data"
    },
    {
     "data": {
      "text/plain": [
       "<ggplot: (93958860819)>"
      ]
     },
     "execution_count": 159,
     "metadata": {},
     "output_type": "execute_result"
    }
   ],
   "source": [
    "pn.ggplot(\n",
    "    pn.aes('feature', 'value'),\n",
    "    data = imp_spend_prob_df\n",
    ") \\\n",
    "    +pn.geom_col() \\\n",
    "    +pn.coord_flip()"
   ]
  },
  {
   "cell_type": "code",
   "execution_count": 160,
   "metadata": {},
   "outputs": [],
   "source": [
    "#save predictions\n",
    "predictions_df = pd.concat(\n",
    "    [\n",
    "        pd.DataFrame(predictions_reg).set_axis(['pred_spend'], axis=1),\n",
    "        pd.DataFrame(predictions_clf)[[1]].set_axis(['pred_prob'], axis=1),\n",
    "        features_df.reset_index()\n",
    "    ], axis = 1\n",
    ")"
   ]
  },
  {
   "cell_type": "code",
   "execution_count": 162,
   "metadata": {},
   "outputs": [
    {
     "data": {
      "text/html": [
       "<div>\n",
       "<style scoped>\n",
       "    .dataframe tbody tr th:only-of-type {\n",
       "        vertical-align: middle;\n",
       "    }\n",
       "\n",
       "    .dataframe tbody tr th {\n",
       "        vertical-align: top;\n",
       "    }\n",
       "\n",
       "    .dataframe thead th {\n",
       "        text-align: right;\n",
       "    }\n",
       "</style>\n",
       "<table border=\"1\" class=\"dataframe\">\n",
       "  <thead>\n",
       "    <tr style=\"text-align: right;\">\n",
       "      <th></th>\n",
       "      <th>pred_spend</th>\n",
       "      <th>pred_prob</th>\n",
       "      <th>customer_id</th>\n",
       "      <th>recency</th>\n",
       "      <th>frequency</th>\n",
       "      <th>amount_sum</th>\n",
       "      <th>amount_mean</th>\n",
       "      <th>spend_90_total</th>\n",
       "      <th>spend_90_flag</th>\n",
       "    </tr>\n",
       "  </thead>\n",
       "  <tbody>\n",
       "    <tr>\n",
       "      <th>0</th>\n",
       "      <td>1.599640</td>\n",
       "      <td>0.200454</td>\n",
       "      <td>1</td>\n",
       "      <td>-455.0</td>\n",
       "      <td>1</td>\n",
       "      <td>11.77</td>\n",
       "      <td>11.770000</td>\n",
       "      <td>0.00</td>\n",
       "      <td>0.0</td>\n",
       "    </tr>\n",
       "    <tr>\n",
       "      <th>1</th>\n",
       "      <td>5.646012</td>\n",
       "      <td>0.209847</td>\n",
       "      <td>2</td>\n",
       "      <td>-444.0</td>\n",
       "      <td>2</td>\n",
       "      <td>397.00</td>\n",
       "      <td>198.500000</td>\n",
       "      <td>0.00</td>\n",
       "      <td>0.0</td>\n",
       "    </tr>\n",
       "    <tr>\n",
       "      <th>2</th>\n",
       "      <td>38.968006</td>\n",
       "      <td>0.362968</td>\n",
       "      <td>3</td>\n",
       "      <td>-127.0</td>\n",
       "      <td>5</td>\n",
       "      <td>493.21</td>\n",
       "      <td>98.642000</td>\n",
       "      <td>16.99</td>\n",
       "      <td>1.0</td>\n",
       "    </tr>\n",
       "    <tr>\n",
       "      <th>3</th>\n",
       "      <td>12.116765</td>\n",
       "      <td>0.340732</td>\n",
       "      <td>4</td>\n",
       "      <td>-110.0</td>\n",
       "      <td>4</td>\n",
       "      <td>186.04</td>\n",
       "      <td>46.510000</td>\n",
       "      <td>0.00</td>\n",
       "      <td>0.0</td>\n",
       "    </tr>\n",
       "    <tr>\n",
       "      <th>4</th>\n",
       "      <td>58.438602</td>\n",
       "      <td>0.550284</td>\n",
       "      <td>5</td>\n",
       "      <td>-88.0</td>\n",
       "      <td>11</td>\n",
       "      <td>1091.74</td>\n",
       "      <td>99.249091</td>\n",
       "      <td>0.00</td>\n",
       "      <td>0.0</td>\n",
       "    </tr>\n",
       "    <tr>\n",
       "      <th>...</th>\n",
       "      <td>...</td>\n",
       "      <td>...</td>\n",
       "      <td>...</td>\n",
       "      <td>...</td>\n",
       "      <td>...</td>\n",
       "      <td>...</td>\n",
       "      <td>...</td>\n",
       "      <td>...</td>\n",
       "      <td>...</td>\n",
       "    </tr>\n",
       "    <tr>\n",
       "      <th>23565</th>\n",
       "      <td>3.785190</td>\n",
       "      <td>0.204524</td>\n",
       "      <td>23566</td>\n",
       "      <td>-372.0</td>\n",
       "      <td>1</td>\n",
       "      <td>72.00</td>\n",
       "      <td>72.000000</td>\n",
       "      <td>0.00</td>\n",
       "      <td>0.0</td>\n",
       "    </tr>\n",
       "    <tr>\n",
       "      <th>23566</th>\n",
       "      <td>2.106834</td>\n",
       "      <td>0.204524</td>\n",
       "      <td>23567</td>\n",
       "      <td>-372.0</td>\n",
       "      <td>1</td>\n",
       "      <td>20.97</td>\n",
       "      <td>20.970000</td>\n",
       "      <td>0.00</td>\n",
       "      <td>0.0</td>\n",
       "    </tr>\n",
       "    <tr>\n",
       "      <th>23567</th>\n",
       "      <td>10.189518</td>\n",
       "      <td>0.243058</td>\n",
       "      <td>23568</td>\n",
       "      <td>-344.0</td>\n",
       "      <td>3</td>\n",
       "      <td>372.92</td>\n",
       "      <td>124.306667</td>\n",
       "      <td>0.00</td>\n",
       "      <td>0.0</td>\n",
       "    </tr>\n",
       "    <tr>\n",
       "      <th>23568</th>\n",
       "      <td>3.583195</td>\n",
       "      <td>0.204524</td>\n",
       "      <td>23569</td>\n",
       "      <td>-372.0</td>\n",
       "      <td>1</td>\n",
       "      <td>51.48</td>\n",
       "      <td>51.480000</td>\n",
       "      <td>0.00</td>\n",
       "      <td>0.0</td>\n",
       "    </tr>\n",
       "    <tr>\n",
       "      <th>23569</th>\n",
       "      <td>5.920897</td>\n",
       "      <td>0.219952</td>\n",
       "      <td>23570</td>\n",
       "      <td>-371.0</td>\n",
       "      <td>2</td>\n",
       "      <td>239.28</td>\n",
       "      <td>119.640000</td>\n",
       "      <td>0.00</td>\n",
       "      <td>0.0</td>\n",
       "    </tr>\n",
       "  </tbody>\n",
       "</table>\n",
       "<p>23570 rows × 9 columns</p>\n",
       "</div>"
      ],
      "text/plain": [
       "       pred_spend  pred_prob  customer_id  recency  frequency  amount_sum  \\\n",
       "0        1.599640   0.200454            1   -455.0          1       11.77   \n",
       "1        5.646012   0.209847            2   -444.0          2      397.00   \n",
       "2       38.968006   0.362968            3   -127.0          5      493.21   \n",
       "3       12.116765   0.340732            4   -110.0          4      186.04   \n",
       "4       58.438602   0.550284            5    -88.0         11     1091.74   \n",
       "...           ...        ...          ...      ...        ...         ...   \n",
       "23565    3.785190   0.204524        23566   -372.0          1       72.00   \n",
       "23566    2.106834   0.204524        23567   -372.0          1       20.97   \n",
       "23567   10.189518   0.243058        23568   -344.0          3      372.92   \n",
       "23568    3.583195   0.204524        23569   -372.0          1       51.48   \n",
       "23569    5.920897   0.219952        23570   -371.0          2      239.28   \n",
       "\n",
       "       amount_mean  spend_90_total  spend_90_flag  \n",
       "0        11.770000            0.00            0.0  \n",
       "1       198.500000            0.00            0.0  \n",
       "2        98.642000           16.99            1.0  \n",
       "3        46.510000            0.00            0.0  \n",
       "4        99.249091            0.00            0.0  \n",
       "...            ...             ...            ...  \n",
       "23565    72.000000            0.00            0.0  \n",
       "23566    20.970000            0.00            0.0  \n",
       "23567   124.306667            0.00            0.0  \n",
       "23568    51.480000            0.00            0.0  \n",
       "23569   119.640000            0.00            0.0  \n",
       "\n",
       "[23570 rows x 9 columns]"
      ]
     },
     "execution_count": 162,
     "metadata": {},
     "output_type": "execute_result"
    }
   ],
   "source": [
    "predictions_df"
   ]
  },
  {
   "cell_type": "code",
   "execution_count": 164,
   "metadata": {},
   "outputs": [],
   "source": [
    "predictions_df.to_pickle(\"predictions_df.pkl\")"
   ]
  },
  {
   "cell_type": "code",
   "execution_count": 165,
   "metadata": {},
   "outputs": [],
   "source": [
    "imp_spend_amount_df.to_pickle(\"imp_spend_amount_df.pkl\")\n",
    "imp_spend_prob_df.to_pickle(\"imp_spend_prob_df.pkl\")"
   ]
  },
  {
   "cell_type": "code",
   "execution_count": 166,
   "metadata": {},
   "outputs": [
    {
     "data": {
      "text/plain": [
       "['xgb_clf_model.pkl']"
      ]
     },
     "execution_count": 166,
     "metadata": {},
     "output_type": "execute_result"
    }
   ],
   "source": [
    "joblib.dump(xgb_reg_model, 'xgb_reg_model.pkl')\n",
    "joblib.dump(xgb_clf_model, 'xgb_clf_model.pkl')"
   ]
  },
  {
   "cell_type": "code",
   "execution_count": null,
   "metadata": {},
   "outputs": [],
   "source": []
  }
 ],
 "metadata": {
  "kernelspec": {
   "display_name": "Python 3",
   "language": "python",
   "name": "python3"
  },
  "language_info": {
   "codemirror_mode": {
    "name": "ipython",
    "version": 3
   },
   "file_extension": ".py",
   "mimetype": "text/x-python",
   "name": "python",
   "nbconvert_exporter": "python",
   "pygments_lexer": "ipython3",
   "version": "3.8.5"
  }
 },
 "nbformat": 4,
 "nbformat_minor": 4
}
